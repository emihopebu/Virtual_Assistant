{
 "cells": [
  {
   "cell_type": "code",
   "execution_count": 2,
   "id": "40eb6395",
   "metadata": {},
   "outputs": [],
   "source": [
    "#Voice Assistant\n",
    "\n",
    "\n",
    "\n",
    "\n",
    "import pyttsx3 #allows python to speak to us\n",
    "import speech_recognition as sr \n",
    "import webbrowser #allows us to open any kind of browser\n",
    "import datetime #allows to get current date and time\n",
    "import pywhatkit #allows to search and open youtube\n",
    "import os #allows to shut down computer, or restart\n",
    "import yfinance as yf #allows us to ask for stock price\n",
    "import pyjokes #allows us to ask for a joke\n",
    "\n"
   ]
  },
  {
   "cell_type": "code",
   "execution_count": 3,
   "id": "f4326bd8",
   "metadata": {},
   "outputs": [],
   "source": [
    "#it will listen to our microphone and return the audio as text using google\n",
    "\n",
    "def transform():\n",
    "    r=sr.Recognizer()\n",
    "    with sr.Microphone() as source:\n",
    "        r.pause_threshold=0.8\n",
    "        said=r.listen(source)\n",
    "        try:\n",
    "            print(\"I am listening\")\n",
    "            q=r.recognize_google(said, language=\"en\")\n",
    "            return q\n",
    "        except sr.UnknownValueError:\n",
    "            print(\"Sorry, I did not understand.\")\n",
    "            return \"I am waiting\"\n",
    "        except sr.RequestError:\n",
    "            print(\"Sorry, the service is down.\")\n",
    "            return \"I am waiting\"\n",
    "        except:\n",
    "            return \"I am waiting\"\n",
    "\n",
    "            \n",
    "              \n",
    "\n"
   ]
  },
  {
   "cell_type": "code",
   "execution_count": 4,
   "id": "300f9795",
   "metadata": {},
   "outputs": [
    {
     "name": "stdout",
     "output_type": "stream",
     "text": [
      "I am listening\n",
      "Sorry, I did not understand.\n"
     ]
    },
    {
     "data": {
      "text/plain": [
       "'I am waiting'"
      ]
     },
     "execution_count": 4,
     "metadata": {},
     "output_type": "execute_result"
    }
   ],
   "source": [
    "transform()"
   ]
  },
  {
   "cell_type": "code",
   "execution_count": 5,
   "id": "746a4eef",
   "metadata": {},
   "outputs": [],
   "source": [
    "def speaking(message):\n",
    "    engine=pyttsx3.init()\n",
    "    engine.say(message)\n",
    "    engine.runAndWait()\n",
    "    "
   ]
  },
  {
   "cell_type": "code",
   "execution_count": 10,
   "id": "a6491907",
   "metadata": {},
   "outputs": [],
   "source": [
    "speaking(\"Hello World\")"
   ]
  },
  {
   "cell_type": "code",
   "execution_count": 11,
   "id": "e5785afd",
   "metadata": {},
   "outputs": [
    {
     "name": "stdout",
     "output_type": "stream",
     "text": [
      "<Voice id=HKEY_LOCAL_MACHINE\\SOFTWARE\\Microsoft\\Speech\\Voices\\Tokens\\TTS_MS_EN-US_DAVID_11.0\n",
      "          name=Microsoft David Desktop - English (United States)\n",
      "          languages=[]\n",
      "          gender=None\n",
      "          age=None>\n",
      "<Voice id=HKEY_LOCAL_MACHINE\\SOFTWARE\\Microsoft\\Speech\\Voices\\Tokens\\TTS_MS_EN-GB_HAZEL_11.0\n",
      "          name=Microsoft Hazel Desktop - English (Great Britain)\n",
      "          languages=[]\n",
      "          gender=None\n",
      "          age=None>\n",
      "<Voice id=HKEY_LOCAL_MACHINE\\SOFTWARE\\Microsoft\\Speech\\Voices\\Tokens\\TTS_MS_EN-US_ZIRA_11.0\n",
      "          name=Microsoft Zira Desktop - English (United States)\n",
      "          languages=[]\n",
      "          gender=None\n",
      "          age=None>\n",
      "<Voice id=HKEY_LOCAL_MACHINE\\SOFTWARE\\Microsoft\\Speech\\Voices\\Tokens\\TTS_MS_ES-ES_HELENA_11.0\n",
      "          name=Microsoft Helena Desktop - Spanish (Spain)\n",
      "          languages=[]\n",
      "          gender=None\n",
      "          age=None>\n"
     ]
    }
   ],
   "source": [
    "engine=pyttsx3.init()\n",
    "for voice in engine.getProperty(\"voices\"):\n",
    "    print(voice)"
   ]
  },
  {
   "cell_type": "code",
   "execution_count": 20,
   "id": "3ca6f096",
   "metadata": {},
   "outputs": [],
   "source": [
    "id=\"HKEY_LOCAL_MACHINE\\SOFTWARE\\Microsoft\\Speech\\Voices\\Tokens\\TTS_MS_EN-US_DAVID_11.0\"\n",
    "engine.setProperty(\"voice\", id)\n",
    "engine.say(\"Hello, world.\")\n",
    "engine.runAndWait()"
   ]
  },
  {
   "cell_type": "code",
   "execution_count": 29,
   "id": "3c43b150",
   "metadata": {},
   "outputs": [],
   "source": [
    "#returns the weekday name\n",
    "def query_day():\n",
    "    day=datetime.date.today()\n",
    "    #print(day)\n",
    "    weekday=day.weekday()\n",
    "    #print(weekday)\n",
    "    mapping={0:\"Monday\",\n",
    "            1:\"Tuesday\",\n",
    "            2:\"Wednesday\",\n",
    "            3:\"Thursday\",\n",
    "            4:\"Friday\",\n",
    "            5:\"Saturday\",\n",
    "            6:\"Sunday\"}\n",
    "    try:\n",
    "        speaking(f\"Today is {mapping[weekday]}.\")\n",
    "    except:\n",
    "        pass\n",
    "    "
   ]
  },
  {
   "cell_type": "code",
   "execution_count": 30,
   "id": "2d4b9731",
   "metadata": {},
   "outputs": [],
   "source": [
    "query_day()"
   ]
  },
  {
   "cell_type": "code",
   "execution_count": null,
   "id": "79e4c8b3",
   "metadata": {},
   "outputs": [],
   "source": []
  }
 ],
 "metadata": {
  "kernelspec": {
   "display_name": "Python 3",
   "language": "python",
   "name": "python3"
  },
  "language_info": {
   "codemirror_mode": {
    "name": "ipython",
    "version": 3
   },
   "file_extension": ".py",
   "mimetype": "text/x-python",
   "name": "python",
   "nbconvert_exporter": "python",
   "pygments_lexer": "ipython3",
   "version": "3.8.8"
  }
 },
 "nbformat": 4,
 "nbformat_minor": 5
}

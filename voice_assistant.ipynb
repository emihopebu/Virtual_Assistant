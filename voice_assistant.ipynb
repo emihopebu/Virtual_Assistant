{
 "cells": [
  {
   "cell_type": "code",
   "execution_count": 21,
   "id": "40eb6395",
   "metadata": {},
   "outputs": [],
   "source": [
    "#Voice Assistant\n",
    "\n",
    "\n",
    "\n",
    "\n",
    "import pyttsx3 #allows python to speak to us\n",
    "import speech_recognition as sr \n",
    "import webbrowser #allows us to open any kind of browser\n",
    "import datetime #allows to get current date and time\n",
    "import pywhatkit #allows to search and open youtube\n",
    "import os #allows to shut down computer, or restart\n",
    "import yfinance as yf #allows us to ask for stock price\n",
    "import pyjokes #allows us to ask for a joke\n",
    "\n"
   ]
  },
  {
   "cell_type": "code",
   "execution_count": 26,
   "id": "f4326bd8",
   "metadata": {},
   "outputs": [],
   "source": [
    "#it will listen to our microphone and return the audio as text using google\n",
    "\n",
    "def transform():\n",
    "    r=sr.Recognizer()\n",
    "    with sr.Microphone() as source:\n",
    "        r.pause_threshold=0.8\n",
    "        said=r.listen(source)\n",
    "        try:\n",
    "            print(\"I am listening\")\n",
    "            q=r.recognize_google(said, language=\"en\")\n",
    "            return q\n",
    "        except sr.UnknownValueError:\n",
    "            print(\"Sorry, I did not understand.\")\n",
    "            return \"I am waiting\"\n",
    "        except sr.RequestError:\n",
    "            print(\"Sorry, the service is down.\")\n",
    "            return \"I am waiting\"\n",
    "        except:\n",
    "            return \"I am waiting\"\n",
    "\n",
    "            \n",
    "              \n",
    "\n"
   ]
  },
  {
   "cell_type": "code",
   "execution_count": 27,
   "id": "300f9795",
   "metadata": {},
   "outputs": [
    {
     "name": "stdout",
     "output_type": "stream",
     "text": [
      "I am listening\n"
     ]
    },
    {
     "data": {
      "text/plain": [
       "'hello'"
      ]
     },
     "execution_count": 27,
     "metadata": {},
     "output_type": "execute_result"
    }
   ],
   "source": [
    "\n",
    "transform()"
   ]
  },
  {
   "cell_type": "code",
   "execution_count": null,
   "id": "746a4eef",
   "metadata": {},
   "outputs": [],
   "source": []
  }
 ],
 "metadata": {
  "kernelspec": {
   "display_name": "Python 3",
   "language": "python",
   "name": "python3"
  },
  "language_info": {
   "codemirror_mode": {
    "name": "ipython",
    "version": 3
   },
   "file_extension": ".py",
   "mimetype": "text/x-python",
   "name": "python",
   "nbconvert_exporter": "python",
   "pygments_lexer": "ipython3",
   "version": "3.8.8"
  }
 },
 "nbformat": 4,
 "nbformat_minor": 5
}

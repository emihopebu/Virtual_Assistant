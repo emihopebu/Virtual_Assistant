{
 "cells": [
  {
   "cell_type": "code",
   "execution_count": null,
   "id": "40eb6395",
   "metadata": {},
   "outputs": [],
   "source": [
    "#Voice Assistant\n",
    "\n",
    "\n",
    "\n",
    "\n",
    "import pyttsx3 #allows python to speak to us\n",
    "import speech_recognition as sr \n",
    "import webbrowser #allows us to open any kind of browser\n",
    "import datetime #allows to get current date and time\n",
    "import pywhatkit #allows to search and open youtube\n",
    "import os #allows to shut down computer, or restart\n",
    "import yfinance as yf #allows us to ask for stock price\n",
    "import pyjokes #allows us to ask for a joke\n",
    "import wikipedia\n",
    "\n"
   ]
  },
  {
   "cell_type": "code",
   "execution_count": null,
   "id": "f4326bd8",
   "metadata": {},
   "outputs": [],
   "source": [
    "#it will listen to our microphone and return the audio as text using google\n",
    "\n",
    "def transform():\n",
    "    r=sr.Recognizer()\n",
    "    with sr.Microphone() as source:\n",
    "        r.pause_threshold=0.8\n",
    "        said=r.listen(source)\n",
    "        try:\n",
    "            print(\"I am listening\")\n",
    "            q=r.recognize_google(said, language=\"en\")\n",
    "            return q\n",
    "        except sr.UnknownValueError:\n",
    "            print(\"Sorry, I did not understand.\")\n",
    "            return \"I am waiting\"\n",
    "        except sr.RequestError:\n",
    "            print(\"Sorry, the service is down.\")\n",
    "            return \"I am waiting\"\n",
    "        except:\n",
    "            return \"I am waiting\"\n",
    "\n",
    "            \n",
    "              \n",
    "\n"
   ]
  },
  {
   "cell_type": "code",
   "execution_count": null,
   "id": "300f9795",
   "metadata": {},
   "outputs": [],
   "source": [
    "transform()"
   ]
  },
  {
   "cell_type": "code",
   "execution_count": null,
   "id": "746a4eef",
   "metadata": {},
   "outputs": [],
   "source": [
    "def speaking(message):\n",
    "    engine=pyttsx3.init()\n",
    "    engine.say(message)\n",
    "    engine.runAndWait()\n",
    "    "
   ]
  },
  {
   "cell_type": "code",
   "execution_count": null,
   "id": "a6491907",
   "metadata": {},
   "outputs": [],
   "source": [
    "speaking(\"Hello World\")"
   ]
  },
  {
   "cell_type": "code",
   "execution_count": null,
   "id": "e5785afd",
   "metadata": {},
   "outputs": [],
   "source": [
    "engine=pyttsx3.init()\n",
    "for voice in engine.getProperty(\"voices\"):\n",
    "    print(voice)"
   ]
  },
  {
   "cell_type": "code",
   "execution_count": null,
   "id": "3ca6f096",
   "metadata": {},
   "outputs": [],
   "source": [
    "id=\"HKEY_LOCAL_MACHINE\\SOFTWARE\\Microsoft\\Speech\\Voices\\Tokens\\TTS_MS_EN-US_DAVID_11.0\"\n",
    "engine.setProperty(\"voice\", id)\n",
    "engine.say(\"Hello, world.\")\n",
    "engine.runAndWait()"
   ]
  },
  {
   "cell_type": "code",
   "execution_count": null,
   "id": "3c43b150",
   "metadata": {},
   "outputs": [],
   "source": [
    "#returns the weekday name\n",
    "def query_day():\n",
    "    day=datetime.date.today()\n",
    "    #print(day)\n",
    "    weekday=day.weekday()\n",
    "    #print(weekday)\n",
    "    mapping={0:\"Monday\",\n",
    "            1:\"Tuesday\",\n",
    "            2:\"Wednesday\",\n",
    "            3:\"Thursday\",\n",
    "            4:\"Friday\",\n",
    "            5:\"Saturday\",\n",
    "            6:\"Sunday\"}\n",
    "    try:\n",
    "        speaking(f\"Today is {mapping[weekday]}.\")\n",
    "    except:\n",
    "        pass\n",
    "    "
   ]
  },
  {
   "cell_type": "code",
   "execution_count": null,
   "id": "2d4b9731",
   "metadata": {},
   "outputs": [],
   "source": [
    "query_day()"
   ]
  },
  {
   "cell_type": "code",
   "execution_count": null,
   "id": "79e4c8b3",
   "metadata": {},
   "outputs": [],
   "source": [
    "#returns the time\n",
    "def query_time():\n",
    "    time=datetime.datetime.now().strftime(\"%I:%M:%S\")\n",
    "    speaking(f\"It is {time[0:2]} o'clock and {time[3:5]} minutes.\")#ONLY GET THE HOUR"
   ]
  },
  {
   "cell_type": "code",
   "execution_count": null,
   "id": "743c26fc",
   "metadata": {},
   "outputs": [],
   "source": [
    "query_time()"
   ]
  },
  {
   "cell_type": "code",
   "execution_count": null,
   "id": "f2d4f600",
   "metadata": {},
   "outputs": [],
   "source": [
    "#intro greeting at startup\n",
    "def whatsup():\n",
    "    speaking(\"\"\"\n",
    "    Hi, I am Emi. How may I help you?\n",
    "    \"\"\")\n",
    "    "
   ]
  },
  {
   "cell_type": "code",
   "execution_count": null,
   "id": "413d2278",
   "metadata": {},
   "outputs": [],
   "source": [
    "whatsup()"
   ]
  },
  {
   "cell_type": "code",
   "execution_count": null,
   "id": "5879d619",
   "metadata": {},
   "outputs": [],
   "source": [
    "#the heart of our assistant\n",
    "\n",
    "def querying():\n",
    "    whatsup()\n",
    "    start=True\n",
    "    while (start):\n",
    "        q=transform().lower()\n",
    "        if \"start youtube\" in q:\n",
    "            speaking(\"Starting youtube. Just a second.\")\n",
    "            webbrowser.open(\"https://www.youtube.com\")\n",
    "            continue\n",
    "            \n",
    "        elif \"start webbrowser\" in q:\n",
    "            speaking(\"Opening browser. Just a second.\")\n",
    "            webbrowser.open(\"https://www.google.com\")\n",
    "            continue\n",
    "            \n",
    "        elif \"what day is it\" in q:\n",
    "            query_day()\n",
    "            continue\n",
    "            \n",
    "        elif \"what time is it\" in q:\n",
    "            query_time()\n",
    "            continue\n",
    "        elif \"shut down\" in q:\n",
    "            speaking(\"Okay, I am shutting down.\")\n",
    "            break\n",
    "        \n",
    "        \n",
    "        elif \"from wikipedia\" in q:\n",
    "            speaking(\"Checking wikipedia.\")\n",
    "            q=q.replace(\"wikipedia\",\"\")\n",
    "            result=wikipedia.summary(q, sentences=2)\n",
    "            speaking(\"found on wikipedia.\")\n",
    "            speaking(result)\n",
    "            continue\n",
    "            \n",
    "        elif \"your name\" in q:\n",
    "            speaking(\"I am Emi. Your VA.\")\n",
    "            continue\n",
    "            \n",
    "        elif \"search web\" in q:\n",
    "            pywhatkit.search(q)\n",
    "            speaking(\"that is what I found.\")\n",
    "            continue\n",
    "            \n",
    "        elif \"play\" in q:\n",
    "            speaking(f\"Playing {q}.\")\n",
    "            pywhatkit.playonyt(q)\n",
    "            continue\n",
    "        \n",
    "        elif \"joke\" in q:\n",
    "            speaking(pyjokes.get_joke())\n",
    "            continue\n",
    "            \n",
    "        elif \"stock price\" in q:\n",
    "            search=q.split(\"of\")[-1].strip()\n",
    "            lookup={\"apple\":\"AAPL\",\n",
    "                   \"amazon\":\"AMZN\",\n",
    "                   \"google\":\"GOOGL\"}\n",
    "            try:\n",
    "                stock=lookup[search]\n",
    "                stock=yf.Ticker(stock)\n",
    "                currentprice=stock.info[\"regularMarketPrice\"]\n",
    "                speaking(f\"I found it, the price for {search} is {currentprice}.\")\n",
    "                continue\n",
    "            except:\n",
    "                speaking(f\"Sorry, I have no data for {search}.\")\n",
    "                continue\n",
    "                \n",
    "        \n",
    "            "
   ]
  },
  {
   "cell_type": "code",
   "execution_count": null,
   "id": "5734f103",
   "metadata": {},
   "outputs": [],
   "source": [
    "querying()"
   ]
  }
 ],
 "metadata": {
  "kernelspec": {
   "display_name": "Python 3",
   "language": "python",
   "name": "python3"
  },
  "language_info": {
   "codemirror_mode": {
    "name": "ipython",
    "version": 3
   },
   "file_extension": ".py",
   "mimetype": "text/x-python",
   "name": "python",
   "nbconvert_exporter": "python",
   "pygments_lexer": "ipython3",
   "version": "3.8.8"
  }
 },
 "nbformat": 4,
 "nbformat_minor": 5
}
